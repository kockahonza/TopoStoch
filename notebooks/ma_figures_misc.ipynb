{
 "cells": [
  {
   "cell_type": "code",
   "execution_count": 1,
   "id": "038464dd-2206-4775-af8a-e694df010667",
   "metadata": {},
   "outputs": [],
   "source": [
    "using Revise\n",
    "using NonEqDigits"
   ]
  },
  {
   "cell_type": "code",
   "execution_count": 2,
   "id": "74a58848-7c91-47ae-a6e8-dfe586b08449",
   "metadata": {},
   "outputs": [],
   "source": [
    "using LaTeXStrings\n",
    "using GLMakie\n",
    "using CairoMakie\n",
    "using JLD2\n",
    "using Geppetto"
   ]
  },
  {
   "cell_type": "code",
   "execution_count": 3,
   "id": "cc866ac5-c136-42db-88cd-6a01ecd3f102",
   "metadata": {},
   "outputs": [],
   "source": [
    "includet(\"../scripts/ma_graphviz.jl\")"
   ]
  },
  {
   "cell_type": "code",
   "execution_count": 4,
   "id": "5cbd6014-9543-46c1-b21b-8577f35ca98a",
   "metadata": {},
   "outputs": [],
   "source": [
    "includet(\"../scripts/ma_colors.jl\")\n",
    "single_col_width = 324 # corresponds to 3+3/8 in as state in PR guidelines\n",
    "double_col_width = single_col_width*2\n",
    "golden_ratio = 1.618\n",
    "nothing"
   ]
  },
  {
   "cell_type": "markdown",
   "id": "d00b7634-fc10-41e0-a970-06021c30c93f",
   "metadata": {},
   "source": [
    "# All rules with just one ssac"
   ]
  },
  {
   "cell_type": "markdown",
   "id": "5047762b-b819-4536-a40b-04e9310f0d1e",
   "metadata": {},
   "source": [
    "# Bits and bobs"
   ]
  },
  {
   "cell_type": "code",
   "execution_count": 3,
   "id": "1942a8ea-1ca2-4830-a668-6ee660e78767",
   "metadata": {},
   "outputs": [],
   "source": [
    "GC.gc()\n",
    "empty!(Out)\n",
    "GC.gc()"
   ]
  },
  {
   "cell_type": "code",
   "execution_count": null,
   "id": "9a09a3a8-0b0e-4148-8471-e7974a787f58",
   "metadata": {},
   "outputs": [],
   "source": []
  }
 ],
 "metadata": {
  "kernelspec": {
   "display_name": "Julia (18 threads) default",
   "language": "julia",
   "name": "julia-_18-threads_-1.10"
  },
  "language_info": {
   "file_extension": ".jl",
   "mimetype": "application/julia",
   "name": "julia",
   "version": "1.10.10"
  }
 },
 "nbformat": 4,
 "nbformat_minor": 5
}
